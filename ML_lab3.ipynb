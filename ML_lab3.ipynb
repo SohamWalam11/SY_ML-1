{
  "nbformat": 4,
  "nbformat_minor": 0,
  "metadata": {
    "colab": {
      "provenance": [],
      "collapsed_sections": [
        "YO4IJQmtXBmI"
      ]
    },
    "kernelspec": {
      "name": "python3",
      "display_name": "Python 3"
    },
    "language_info": {
      "name": "python"
    }
  },
  "cells": [
    {
      "cell_type": "markdown",
      "source": [
        "# Q1\n"
      ],
      "metadata": {
        "id": "YO4IJQmtXBmI"
      }
    },
    {
      "cell_type": "code",
      "execution_count": null,
      "metadata": {
        "colab": {
          "base_uri": "https://localhost:8080/"
        },
        "id": "xzR-W2DCWghH",
        "outputId": "06906e41-f62d-44f1-81aa-0691d4f6c665"
      },
      "outputs": [
        {
          "output_type": "stream",
          "name": "stdout",
          "text": [
            "Accuracy: 76.62%\n"
          ]
        }
      ],
      "source": [
        "import numpy as np\n",
        "import pandas as pd\n",
        "from sklearn.model_selection import train_test_split\n",
        "from scipy.stats import norm\n",
        "\n",
        "# Load the dataset\n",
        "df = pd.read_csv(\"diabetes.csv\")\n",
        "\n",
        "# Split dataset into features and target variable\n",
        "X = df.drop(columns=[\"Outcome\"])\n",
        "y = df[\"Outcome\"]\n",
        "\n",
        "# Split into training and test sets (80% train, 20% test)\n",
        "X_train, X_test, y_train, y_test = train_test_split(X, y, test_size=0.2, random_state=42)\n",
        "\n",
        "class NaiveBayes:\n",
        "    def fit(self, X, y):\n",
        "        self.classes = np.unique(y)\n",
        "        self.priors = {c: np.mean(y == c) for c in self.classes}\n",
        "        self.means = {c: X[y == c].mean(axis=0) for c in self.classes}\n",
        "        self.stds = {c: X[y == c].std(axis=0) for c in self.classes}\n",
        "\n",
        "    def predict(self, X):\n",
        "        predictions = []\n",
        "        for _, x in X.iterrows():\n",
        "            posteriors = {}\n",
        "            for c in self.classes:\n",
        "                prior = np.log(self.priors[c])\n",
        "                likelihood = np.sum(np.log(norm.pdf(x, self.means[c], self.stds[c])))\n",
        "                posteriors[c] = prior + likelihood\n",
        "            predictions.append(max(posteriors, key=posteriors.get))\n",
        "        return np.array(predictions)\n",
        "\n",
        "# Train the Naive Bayes classifier\n",
        "nb = NaiveBayes()\n",
        "nb.fit(X_train, y_train)\n",
        "\n",
        "# Make predictions\n",
        "y_pred = nb.predict(X_test)\n",
        "\n",
        "# Compute accuracy\n",
        "accuracy = np.mean(y_pred == y_test)\n",
        "print(f\"Accuracy: {accuracy * 100:.2f}%\")\n"
      ]
    },
    {
      "cell_type": "markdown",
      "source": [
        "# Q2\n"
      ],
      "metadata": {
        "id": "T4XbBXrCXHtV"
      }
    },
    {
      "cell_type": "markdown",
      "source": [
        "**Dataset_2**"
      ],
      "metadata": {
        "id": "_rD-1-AsXqM5"
      }
    },
    {
      "cell_type": "code",
      "source": [
        "import pandas as pd\n",
        "from sklearn.preprocessing import LabelEncoder, StandardScaler\n",
        "from sklearn.model_selection import train_test_split\n",
        "from sklearn.naive_bayes import GaussianNB\n",
        "from sklearn.metrics import accuracy_score\n",
        "\n",
        "# Load the dataset\n",
        "df = pd.read_csv(\"Social_Network_Ads.csv\")\n",
        "\n",
        "# Drop User ID column\n",
        "df = df.drop(columns=[\"User ID\"])\n",
        "\n",
        "# Encode Gender column\n",
        "label_encoder = LabelEncoder()\n",
        "df[\"Gender\"] = label_encoder.fit_transform(df[\"Gender\"])  # Male=1, Female=0\n",
        "\n",
        "# Split dataset into features and target variable\n",
        "X = df.drop(columns=[\"Purchased\"])\n",
        "y = df[\"Purchased\"]\n",
        "\n",
        "# Scale the features\n",
        "scaler = StandardScaler()\n",
        "X_scaled = scaler.fit_transform(X)\n",
        "\n",
        "# Split into training and test sets (80% train, 20% test)\n",
        "X_train, X_test, y_train, y_test = train_test_split(X_scaled, y, test_size=0.2, random_state=42)\n",
        "\n",
        "# Train Naïve Bayes classifier\n",
        "nb_classifier = GaussianNB()\n",
        "nb_classifier.fit(X_train, y_train)\n",
        "\n",
        "# Make predictions\n",
        "y_pred = nb_classifier.predict(X_test)\n",
        "\n",
        "# Compute accuracy\n",
        "accuracy = accuracy_score(y_test, y_pred)\n",
        "print(f\"Accuracy: {accuracy * 100:.2f}%\")\n"
      ],
      "metadata": {
        "colab": {
          "base_uri": "https://localhost:8080/"
        },
        "id": "2RDMtLolXJry",
        "outputId": "dc0e1c9d-7ea1-4f37-ca1b-5d1f105be860"
      },
      "execution_count": null,
      "outputs": [
        {
          "output_type": "stream",
          "name": "stdout",
          "text": [
            "Accuracy: 93.75%\n"
          ]
        }
      ]
    },
    {
      "cell_type": "markdown",
      "source": [
        "**Dataset_1**"
      ],
      "metadata": {
        "id": "kLxYw5dfX5rT"
      }
    },
    {
      "cell_type": "code",
      "source": [
        "# Import Required Libraries\n",
        "import pandas as pd\n",
        "from sklearn.model_selection import train_test_split\n",
        "from sklearn.preprocessing import StandardScaler\n",
        "from sklearn.naive_bayes import GaussianNB\n",
        "from sklearn.metrics import accuracy_score, classification_report, confusion_matrix\n",
        "\n",
        "# Load the Dataset\n",
        "data = pd.read_csv('Breast_cancer_data.csv')\n",
        "\n",
        "# Display the first few rows of the dataset\n",
        "print(data.head())\n",
        "\n",
        "# Check for missing values\n",
        "print(data.isnull().sum())\n",
        "\n",
        "# Define Features and Target Variable\n",
        "X = data.drop('diagnosis', axis=1)  # Features\n",
        "y = data['diagnosis']  # Target variable\n",
        "\n",
        "# Split the Dataset\n",
        "X_train, X_test, y_train, y_test = train_test_split(X, y, test_size=0.2, random_state=42)\n",
        "\n",
        "# Data Preprocessing\n",
        "# Standardize the features\n",
        "scaler = StandardScaler()\n",
        "X_train = scaler.fit_transform(X_train)\n",
        "X_test = scaler.transform(X_test)\n",
        "\n",
        "# Fit the Naive Bayes Classifier\n",
        "model = GaussianNB()\n",
        "model.fit(X_train, y_train)\n",
        "\n",
        "# Make Predictions\n",
        "y_pred = model.predict(X_test)\n",
        "\n",
        "# Evaluate the Model\n",
        "accuracy = accuracy_score(y_test, y_pred)\n",
        "print(f'Accuracy: {accuracy:.2f}')\n",
        "\n",
        "# Print classification report\n",
        "print(classification_report(y_test, y_pred))\n",
        "\n",
        "# Print confusion matrix\n",
        "print(confusion_matrix(y_test, y_pred))"
      ],
      "metadata": {
        "colab": {
          "base_uri": "https://localhost:8080/"
        },
        "id": "ql80e14SXw_x",
        "outputId": "d79d493c-8002-496c-b113-46d44a8e3bb8"
      },
      "execution_count": null,
      "outputs": [
        {
          "output_type": "stream",
          "name": "stdout",
          "text": [
            "   mean_radius  mean_texture  mean_perimeter  mean_area  mean_smoothness  \\\n",
            "0        17.99         10.38          122.80     1001.0          0.11840   \n",
            "1        20.57         17.77          132.90     1326.0          0.08474   \n",
            "2        19.69         21.25          130.00     1203.0          0.10960   \n",
            "3        11.42         20.38           77.58      386.1          0.14250   \n",
            "4        20.29         14.34          135.10     1297.0          0.10030   \n",
            "\n",
            "   diagnosis  \n",
            "0          0  \n",
            "1          0  \n",
            "2          0  \n",
            "3          0  \n",
            "4          0  \n",
            "mean_radius        0\n",
            "mean_texture       0\n",
            "mean_perimeter     0\n",
            "mean_area          0\n",
            "mean_smoothness    0\n",
            "diagnosis          0\n",
            "dtype: int64\n",
            "Accuracy: 0.95\n",
            "              precision    recall  f1-score   support\n",
            "\n",
            "           0       1.00      0.86      0.93        43\n",
            "           1       0.92      1.00      0.96        71\n",
            "\n",
            "    accuracy                           0.95       114\n",
            "   macro avg       0.96      0.93      0.94       114\n",
            "weighted avg       0.95      0.95      0.95       114\n",
            "\n",
            "[[37  6]\n",
            " [ 0 71]]\n"
          ]
        }
      ]
    },
    {
      "cell_type": "code",
      "source": [],
      "metadata": {
        "id": "YJQ3kkftYafD"
      },
      "execution_count": null,
      "outputs": []
    }
  ]
}