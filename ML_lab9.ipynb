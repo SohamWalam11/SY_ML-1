{
  "nbformat": 4,
  "nbformat_minor": 0,
  "metadata": {
    "colab": {
      "provenance": []
    },
    "kernelspec": {
      "name": "python3",
      "display_name": "Python 3"
    },
    "language_info": {
      "name": "python"
    }
  },
  "cells": [
    {
      "cell_type": "code",
      "execution_count": 1,
      "metadata": {
        "colab": {
          "base_uri": "https://localhost:8080/"
        },
        "id": "YKvxnfeU_zag",
        "outputId": "ce2a96bc-00d6-485a-9c8f-8a156cc0f766"
      },
      "outputs": [
        {
          "output_type": "stream",
          "name": "stdout",
          "text": [
            "--- Task 1: Apriori with min_support=0.6 ---\n",
            "    support                     itemsets\n",
            "0       0.8                       (Eggs)\n",
            "1       1.0               (Kidney Beans)\n",
            "2       0.6                       (Milk)\n",
            "3       0.6                      (Onion)\n",
            "4       0.6                     (Yogurt)\n",
            "5       0.8         (Eggs, Kidney Beans)\n",
            "6       0.6                (Eggs, Onion)\n",
            "7       0.6         (Milk, Kidney Beans)\n",
            "8       0.6        (Onion, Kidney Beans)\n",
            "9       0.6       (Yogurt, Kidney Beans)\n",
            "10      0.6  (Eggs, Onion, Kidney Beans)\n",
            "\n",
            "--- Task 2: Apriori with min_support=0.7 ---\n",
            "   support              itemsets\n",
            "0      0.8                (Eggs)\n",
            "1      1.0        (Kidney Beans)\n",
            "2      0.8  (Eggs, Kidney Beans)\n",
            "\n",
            "--- Comparison of Task 1 and Task 2 ---\n",
            "Task 1 had 11 frequent itemsets, Task 2 had 3 frequent itemsets.\n",
            "\n",
            "--- Task 3: Association Rules (from min_support=0.6 frequent itemsets) ---\n",
            "              antecedents            consequents  support  confidence  lift\n",
            "0                  (Eggs)         (Kidney Beans)      0.8        1.00  1.00\n",
            "1          (Kidney Beans)                 (Eggs)      0.8        0.80  1.00\n",
            "2                  (Eggs)                (Onion)      0.6        0.75  1.25\n",
            "3                 (Onion)                 (Eggs)      0.6        1.00  1.25\n",
            "4                  (Milk)         (Kidney Beans)      0.6        1.00  1.00\n",
            "5          (Kidney Beans)                 (Milk)      0.6        0.60  1.00\n",
            "6                 (Onion)         (Kidney Beans)      0.6        1.00  1.00\n",
            "7          (Kidney Beans)                (Onion)      0.6        0.60  1.00\n",
            "8                (Yogurt)         (Kidney Beans)      0.6        1.00  1.00\n",
            "9          (Kidney Beans)               (Yogurt)      0.6        0.60  1.00\n",
            "10          (Eggs, Onion)         (Kidney Beans)      0.6        1.00  1.00\n",
            "11   (Eggs, Kidney Beans)                (Onion)      0.6        0.75  1.25\n",
            "12  (Onion, Kidney Beans)                 (Eggs)      0.6        1.00  1.25\n",
            "13                 (Eggs)  (Onion, Kidney Beans)      0.6        0.75  1.25\n",
            "14                (Onion)   (Eggs, Kidney Beans)      0.6        1.00  1.25\n",
            "15         (Kidney Beans)          (Eggs, Onion)      0.6        0.60  1.00\n",
            "\n",
            "--- Task 4: Exploring confidence thresholds ---\n",
            "\n",
            "Association Rules with confidence >= 0.5\n",
            "              antecedents            consequents  support  confidence  lift\n",
            "0                  (Eggs)         (Kidney Beans)      0.8        1.00  1.00\n",
            "1          (Kidney Beans)                 (Eggs)      0.8        0.80  1.00\n",
            "2                  (Eggs)                (Onion)      0.6        0.75  1.25\n",
            "3                 (Onion)                 (Eggs)      0.6        1.00  1.25\n",
            "4                  (Milk)         (Kidney Beans)      0.6        1.00  1.00\n",
            "5          (Kidney Beans)                 (Milk)      0.6        0.60  1.00\n",
            "6                 (Onion)         (Kidney Beans)      0.6        1.00  1.00\n",
            "7          (Kidney Beans)                (Onion)      0.6        0.60  1.00\n",
            "8                (Yogurt)         (Kidney Beans)      0.6        1.00  1.00\n",
            "9          (Kidney Beans)               (Yogurt)      0.6        0.60  1.00\n",
            "10          (Eggs, Onion)         (Kidney Beans)      0.6        1.00  1.00\n",
            "11   (Eggs, Kidney Beans)                (Onion)      0.6        0.75  1.25\n",
            "12  (Onion, Kidney Beans)                 (Eggs)      0.6        1.00  1.25\n",
            "13                 (Eggs)  (Onion, Kidney Beans)      0.6        0.75  1.25\n",
            "14                (Onion)   (Eggs, Kidney Beans)      0.6        1.00  1.25\n",
            "15         (Kidney Beans)          (Eggs, Onion)      0.6        0.60  1.00\n",
            "\n",
            "Association Rules with confidence >= 0.7\n"
          ]
        },
        {
          "output_type": "stream",
          "name": "stderr",
          "text": [
            "/usr/local/lib/python3.11/dist-packages/mlxtend/frequent_patterns/association_rules.py:186: RuntimeWarning: invalid value encountered in divide\n",
            "  cert_metric = np.where(certainty_denom == 0, 0, certainty_num / certainty_denom)\n",
            "/usr/local/lib/python3.11/dist-packages/mlxtend/frequent_patterns/association_rules.py:186: RuntimeWarning: invalid value encountered in divide\n",
            "  cert_metric = np.where(certainty_denom == 0, 0, certainty_num / certainty_denom)\n",
            "/usr/local/lib/python3.11/dist-packages/mlxtend/frequent_patterns/association_rules.py:186: RuntimeWarning: invalid value encountered in divide\n",
            "  cert_metric = np.where(certainty_denom == 0, 0, certainty_num / certainty_denom)\n",
            "/usr/local/lib/python3.11/dist-packages/mlxtend/frequent_patterns/association_rules.py:186: RuntimeWarning: invalid value encountered in divide\n",
            "  cert_metric = np.where(certainty_denom == 0, 0, certainty_num / certainty_denom)\n"
          ]
        },
        {
          "output_type": "stream",
          "name": "stdout",
          "text": [
            "              antecedents            consequents  support  confidence  lift\n",
            "0                  (Eggs)         (Kidney Beans)      0.8        1.00  1.00\n",
            "1          (Kidney Beans)                 (Eggs)      0.8        0.80  1.00\n",
            "2                  (Eggs)                (Onion)      0.6        0.75  1.25\n",
            "3                 (Onion)                 (Eggs)      0.6        1.00  1.25\n",
            "4                  (Milk)         (Kidney Beans)      0.6        1.00  1.00\n",
            "5                 (Onion)         (Kidney Beans)      0.6        1.00  1.00\n",
            "6                (Yogurt)         (Kidney Beans)      0.6        1.00  1.00\n",
            "7           (Eggs, Onion)         (Kidney Beans)      0.6        1.00  1.00\n",
            "8    (Eggs, Kidney Beans)                (Onion)      0.6        0.75  1.25\n",
            "9   (Onion, Kidney Beans)                 (Eggs)      0.6        1.00  1.25\n",
            "10                 (Eggs)  (Onion, Kidney Beans)      0.6        0.75  1.25\n",
            "11                (Onion)   (Eggs, Kidney Beans)      0.6        1.00  1.25\n",
            "\n",
            "Association Rules with confidence >= 0.9\n",
            "             antecedents           consequents  support  confidence  lift\n",
            "0                 (Eggs)        (Kidney Beans)      0.8         1.0  1.00\n",
            "1                (Onion)                (Eggs)      0.6         1.0  1.25\n",
            "2                 (Milk)        (Kidney Beans)      0.6         1.0  1.00\n",
            "3                (Onion)        (Kidney Beans)      0.6         1.0  1.00\n",
            "4               (Yogurt)        (Kidney Beans)      0.6         1.0  1.00\n",
            "5          (Eggs, Onion)        (Kidney Beans)      0.6         1.0  1.00\n",
            "6  (Onion, Kidney Beans)                (Eggs)      0.6         1.0  1.25\n",
            "7                (Onion)  (Eggs, Kidney Beans)      0.6         1.0  1.25\n"
          ]
        }
      ],
      "source": [
        "import pandas as pd\n",
        "from mlxtend.preprocessing import TransactionEncoder\n",
        "from mlxtend.frequent_patterns import apriori, association_rules\n",
        "\n",
        "# Dataset\n",
        "dataset = [['Milk','Onion','Nutmeg','Kidney Beans','Eggs','Yogurt'],\n",
        "           ['Dill','Onion','Nutmeg','Kidney Beans','Eggs','Yogurt'],\n",
        "           ['Milk','Apple','Kidney Beans','Eggs'],\n",
        "           ['Milk','Unicorn','Corn','Kidney Beans','Yogurt'],\n",
        "           ['Corn','Onion','Onion','Kidney Beans','Ice cream','Eggs']]\n",
        "\n",
        "# Convert dataset to DataFrame\n",
        "te = TransactionEncoder()\n",
        "te_ary = te.fit(dataset).transform(dataset)\n",
        "df = pd.DataFrame(te_ary, columns=te.columns_)\n",
        "\n",
        "print(\"--- Task 1: Apriori with min_support=0.6 ---\")\n",
        "frequent_itemsets_1 = apriori(df, min_support=0.6, use_colnames=True)\n",
        "print(frequent_itemsets_1)\n",
        "\n",
        "print(\"\\n--- Task 2: Apriori with min_support=0.7 ---\")\n",
        "frequent_itemsets_2 = apriori(df, min_support=0.7, use_colnames=True)\n",
        "print(frequent_itemsets_2)\n",
        "\n",
        "print(\"\\n--- Comparison of Task 1 and Task 2 ---\")\n",
        "print(\"Task 1 had {} frequent itemsets, Task 2 had {} frequent itemsets.\".format(\n",
        "    len(frequent_itemsets_1), len(frequent_itemsets_2)\n",
        "))\n",
        "\n",
        "print(\"\\n--- Task 3: Association Rules (from min_support=0.6 frequent itemsets) ---\")\n",
        "rules = association_rules(frequent_itemsets_1, metric=\"confidence\", min_threshold=0.5)\n",
        "print(rules[['antecedents', 'consequents', 'support', 'confidence', 'lift']])\n",
        "\n",
        "print(\"\\n--- Task 4: Exploring confidence thresholds ---\")\n",
        "for conf in [0.5, 0.7, 0.9]:\n",
        "    print(f\"\\nAssociation Rules with confidence >= {conf}\")\n",
        "    filtered_rules = association_rules(frequent_itemsets_1, metric=\"confidence\", min_threshold=conf)\n",
        "    print(filtered_rules[['antecedents', 'consequents', 'support', 'confidence', 'lift']])"
      ]
    },
    {
      "cell_type": "code",
      "source": [],
      "metadata": {
        "id": "_8Ba1kUwANee"
      },
      "execution_count": null,
      "outputs": []
    }
  ]
}